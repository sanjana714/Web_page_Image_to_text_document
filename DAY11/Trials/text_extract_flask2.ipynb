{
 "cells": [
  {
   "cell_type": "code",
   "execution_count": null,
   "metadata": {},
   "outputs": [],
   "source": []
  },
  {
   "cell_type": "code",
   "execution_count": null,
   "metadata": {},
   "outputs": [],
   "source": []
  },
  {
   "cell_type": "code",
   "execution_count": 1,
   "metadata": {},
   "outputs": [
    {
     "name": "stdout",
     "output_type": "stream",
     "text": [
      " * Serving Flask app '__main__'\n",
      " * Debug mode: off\n"
     ]
    },
    {
     "name": "stderr",
     "output_type": "stream",
     "text": [
      "WARNING: This is a development server. Do not use it in a production deployment. Use a production WSGI server instead.\n",
      " * Running on http://127.0.0.1:5000\n",
      "Press CTRL+C to quit\n"
     ]
    }
   ],
   "source": [
    "from flask import Flask, render_template, request, send_from_directory\n",
    "import os\n",
    "\n",
    "app = Flask(__name__)\n",
    "\n",
    "# Set the upload folder path and allowed extensions\n",
    "UPLOAD_FOLDER = 'uploads'\n",
    "ALLOWED_EXTENSIONS = {'txt', 'pdf', 'png', 'jpg', 'jpeg', 'gif'}\n",
    "\n",
    "# Set the route for uploading a folder\n",
    "@app.route('/try2', methods=['GET', 'POST'])\n",
    "def upload_folder():\n",
    "    if request.method == 'POST':\n",
    "        # Check if the post request has the file part\n",
    "        if 'folder' not in request.files:\n",
    "            return 'No folder part in the request!'\n",
    "        \n",
    "        folder = request.files['folder']\n",
    "        \n",
    "        # If user does not select any file, browser also\n",
    "        # submit an empty part without filename\n",
    "        if folder.filename == '':\n",
    "            return 'No selected folder!'\n",
    "        \n",
    "        # Create a subdirectory in the upload folder to store the files\n",
    "        folder_path = os.path.join(UPLOAD_FOLDER, folder.filename)\n",
    "        os.makedirs(folder_path, exist_ok=True)\n",
    "        \n",
    "        # Save the files in the subdirectory\n",
    "        for file in folder:\n",
    "            if file.filename == '':\n",
    "                return 'No file selected!'\n",
    "            \n",
    "            if file and allowed_file(file.filename):\n",
    "                file.save(os.path.join(folder_path, file.filename))\n",
    "        \n",
    "        return 'Folder uploaded successfully!'\n",
    "    \n",
    "    return render_template('try2.html')\n",
    "\n",
    "# Helper function to check if the file extension is allowed\n",
    "def allowed_file(filename):\n",
    "    return '.' in filename and filename.rsplit('.', 1)[1].lower() in ALLOWED_EXTENSIONS\n",
    "\n",
    "# Set the route to access the uploaded folder\n",
    "@app.route('/uploads/<folder>/<filename>')\n",
    "def uploaded_file(folder, filename):\n",
    "    return send_from_directory(os.path.join(UPLOAD_FOLDER, folder), filename)\n",
    "\n",
    "if __name__ == '__main__':\n",
    "    app.run(port=5000)"
   ]
  }
 ],
 "metadata": {
  "kernelspec": {
   "display_name": "Python 3",
   "language": "python",
   "name": "python3"
  },
  "language_info": {
   "codemirror_mode": {
    "name": "ipython",
    "version": 3
   },
   "file_extension": ".py",
   "mimetype": "text/x-python",
   "name": "python",
   "nbconvert_exporter": "python",
   "pygments_lexer": "ipython3",
   "version": "3.9.13"
  },
  "orig_nbformat": 4
 },
 "nbformat": 4,
 "nbformat_minor": 2
}
